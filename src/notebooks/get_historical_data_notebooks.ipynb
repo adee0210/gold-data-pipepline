{
 "cells": [
  {
   "cell_type": "code",
   "execution_count": null,
   "id": "7ce7cac1",
   "metadata": {},
   "outputs": [
    {
     "name": "stderr",
     "output_type": "stream",
     "text": [
      "/home/duc/gold_data_project/.venv/lib/python3.12/site-packages/tqdm/auto.py:21: TqdmWarning: IProgress not found. Please update jupyter and ipywidgets. See https://ipywidgets.readthedocs.io/en/stable/user_install.html\n",
      "  from .autonotebook import tqdm as notebook_tqdm\n",
      "/tmp/ipykernel_62010/969542243.py:6: DeprecationWarning: Use dataset_load() instead of load_dataset(). load_dataset() will be removed in a future version.\n",
      "  df = kagglehub.load_dataset(\n"
     ]
    },
    {
     "name": "stdout",
     "output_type": "stream",
     "text": [
      "First 5 records:               Date;Open;High;Low;Close;Volume\n",
      "0        2004.06.11 07:18;384;384.1;384;384;3\n",
      "1      2004.06.11 07:23;384.1;384.1;384;384;2\n",
      "2  2004.06.11 07:24;383.8;383.8;383.8;383.8;1\n",
      "3  2004.06.11 07:25;383.8;384.3;383.8;384.3;3\n",
      "4  2004.06.11 07:27;383.8;383.8;383.8;383.8;1\n"
     ]
    }
   ],
   "source": [
    "import kagglehub\n",
    "from kagglehub import KaggleDatasetAdapter\n",
    "\n",
    "file_path = \"XAU_1m_data.csv\"\n",
    "\n",
    "df = kagglehub.load_dataset(\n",
    "  KaggleDatasetAdapter.PANDAS,\n",
    "  \"novandraanugrah/xauusd-gold-price-historical-data-2004-2024\",\n",
    "  file_path,\n",
    ")\n",
    "\n",
    "print(\"First 5 records:\", df.head())"
   ]
  },
  {
   "cell_type": "code",
   "execution_count": 2,
   "id": "06f0c758",
   "metadata": {},
   "outputs": [
    {
     "data": {
      "text/plain": [
       "<bound method DataFrame.info of                            Date;Open;High;Low;Close;Volume\n",
       "0                     2004.06.11 07:18;384;384.1;384;384;3\n",
       "1                   2004.06.11 07:23;384.1;384.1;384;384;2\n",
       "2               2004.06.11 07:24;383.8;383.8;383.8;383.8;1\n",
       "3               2004.06.11 07:25;383.8;384.3;383.8;384.3;3\n",
       "4               2004.06.11 07:27;383.8;383.8;383.8;383.8;1\n",
       "...                                                    ...\n",
       "6600525  2025.10.01 05:25;3865.21;3866.46;3864.68;3865....\n",
       "6600526  2025.10.01 05:26;3865.66;3867.09;3865.66;3866....\n",
       "6600527  2025.10.01 05:27;3866.31;3867.43;3866.27;3867....\n",
       "6600528  2025.10.01 05:28;3867.2;3867.75;3865.72;3865.8...\n",
       "6600529  2025.10.01 05:29;3865.83;3866.58;3865.37;3866....\n",
       "\n",
       "[6600530 rows x 1 columns]>"
      ]
     },
     "execution_count": 2,
     "metadata": {},
     "output_type": "execute_result"
    }
   ],
   "source": [
    "df.info"
   ]
  },
  {
   "cell_type": "code",
   "execution_count": 3,
   "id": "3ea68e6d",
   "metadata": {},
   "outputs": [],
   "source": [
    "df.to_csv(\"/home/duc/gold_data_project/data/gold_data.csv\",index=False)"
   ]
  },
  {
   "cell_type": "code",
   "execution_count": 1,
   "id": "301a9ab8",
   "metadata": {},
   "outputs": [],
   "source": [
    "import pandas as pd"
   ]
  },
  {
   "cell_type": "code",
   "execution_count": 2,
   "id": "611d99dd",
   "metadata": {},
   "outputs": [
    {
     "data": {
      "text/html": [
       "<div>\n",
       "<style scoped>\n",
       "    .dataframe tbody tr th:only-of-type {\n",
       "        vertical-align: middle;\n",
       "    }\n",
       "\n",
       "    .dataframe tbody tr th {\n",
       "        vertical-align: top;\n",
       "    }\n",
       "\n",
       "    .dataframe thead th {\n",
       "        text-align: right;\n",
       "    }\n",
       "</style>\n",
       "<table border=\"1\" class=\"dataframe\">\n",
       "  <thead>\n",
       "    <tr style=\"text-align: right;\">\n",
       "      <th></th>\n",
       "      <th>&lt;DATE&gt;\\t&lt;TIME&gt;\\t&lt;OPEN&gt;\\t&lt;HIGH&gt;\\t&lt;LOW&gt;\\t&lt;CLOSE&gt;\\t&lt;TICKVOL&gt;\\t&lt;VOL&gt;\\t&lt;SPREAD&gt;</th>\n",
       "    </tr>\n",
       "  </thead>\n",
       "  <tbody>\n",
       "    <tr>\n",
       "      <th>0</th>\n",
       "      <td>2014.01.14\\t00:00:00\\t1253.967\\t1255.028\\t1241...</td>\n",
       "    </tr>\n",
       "    <tr>\n",
       "      <th>1</th>\n",
       "      <td>2014.01.15\\t00:00:00\\t1243.300\\t1243.919\\t1234...</td>\n",
       "    </tr>\n",
       "    <tr>\n",
       "      <th>2</th>\n",
       "      <td>2014.01.16\\t00:00:00\\t1240.921\\t1245.040\\t1236...</td>\n",
       "    </tr>\n",
       "    <tr>\n",
       "      <th>3</th>\n",
       "      <td>2014.01.17\\t00:00:00\\t1241.983\\t1254.789\\t1237...</td>\n",
       "    </tr>\n",
       "    <tr>\n",
       "      <th>4</th>\n",
       "      <td>2014.01.19\\t00:00:00\\t1253.814\\t1260.701\\t1251...</td>\n",
       "    </tr>\n",
       "    <tr>\n",
       "      <th>...</th>\n",
       "      <td>...</td>\n",
       "    </tr>\n",
       "    <tr>\n",
       "      <th>2978755</th>\n",
       "      <td>2025.10.09\\t04:09:00\\t4028.726\\t4029.664\\t4027...</td>\n",
       "    </tr>\n",
       "    <tr>\n",
       "      <th>2978756</th>\n",
       "      <td>2025.10.09\\t04:10:00\\t4029.480\\t4029.708\\t4028...</td>\n",
       "    </tr>\n",
       "    <tr>\n",
       "      <th>2978757</th>\n",
       "      <td>2025.10.09\\t04:11:00\\t4029.397\\t4029.877\\t4028...</td>\n",
       "    </tr>\n",
       "    <tr>\n",
       "      <th>2978758</th>\n",
       "      <td>2025.10.09\\t04:12:00\\t4029.269\\t4032.613\\t4029...</td>\n",
       "    </tr>\n",
       "    <tr>\n",
       "      <th>2978759</th>\n",
       "      <td>2025.10.09\\t04:13:00\\t4032.336\\t4032.677\\t4031...</td>\n",
       "    </tr>\n",
       "  </tbody>\n",
       "</table>\n",
       "<p>2978760 rows × 1 columns</p>\n",
       "</div>"
      ],
      "text/plain": [
       "        <DATE>\\t<TIME>\\t<OPEN>\\t<HIGH>\\t<LOW>\\t<CLOSE>\\t<TICKVOL>\\t<VOL>\\t<SPREAD>\n",
       "0        2014.01.14\\t00:00:00\\t1253.967\\t1255.028\\t1241...                        \n",
       "1        2014.01.15\\t00:00:00\\t1243.300\\t1243.919\\t1234...                        \n",
       "2        2014.01.16\\t00:00:00\\t1240.921\\t1245.040\\t1236...                        \n",
       "3        2014.01.17\\t00:00:00\\t1241.983\\t1254.789\\t1237...                        \n",
       "4        2014.01.19\\t00:00:00\\t1253.814\\t1260.701\\t1251...                        \n",
       "...                                                    ...                        \n",
       "2978755  2025.10.09\\t04:09:00\\t4028.726\\t4029.664\\t4027...                        \n",
       "2978756  2025.10.09\\t04:10:00\\t4029.480\\t4029.708\\t4028...                        \n",
       "2978757  2025.10.09\\t04:11:00\\t4029.397\\t4029.877\\t4028...                        \n",
       "2978758  2025.10.09\\t04:12:00\\t4029.269\\t4032.613\\t4029...                        \n",
       "2978759  2025.10.09\\t04:13:00\\t4032.336\\t4032.677\\t4031...                        \n",
       "\n",
       "[2978760 rows x 1 columns]"
      ]
     },
     "execution_count": 2,
     "metadata": {},
     "output_type": "execute_result"
    }
   ],
   "source": [
    "pd.read_csv(\"/home/duc/gold_data_project/data/gold_data_metatrader5.csv\")"
   ]
  },
  {
   "cell_type": "code",
   "execution_count": 5,
   "id": "c59d7361",
   "metadata": {},
   "outputs": [
    {
     "name": "stderr",
     "output_type": "stream",
     "text": [
      "2025-10-09 11:48:11,463 - MainProcess - INFO - Extract Historical Metatrader gold data - Successfully to read config\n",
      "2025-10-09 11:48:11,464 - MainProcess - INFO - Extract Historical Metatrader gold data - Downloading Metatrader data from Google Drive ...\n",
      "2025-10-09 11:48:11,464 - MainProcess - INFO - Extract Historical Metatrader gold data - Downloading Metatrader data from Google Drive ...\n",
      "2025-10-09 11:49:04,058 - MainProcess - INFO - Extract Historical Metatrader gold data - Extracted data successfully: 2978760 records\n",
      "2025-10-09 11:49:04,058 - MainProcess - INFO - Extract Historical Metatrader gold data - Extracted data successfully: 2978760 records\n"
     ]
    },
    {
     "name": "stdout",
     "output_type": "stream",
     "text": [
      "Tên cột: ['date', 'time', 'open', 'high', 'low', 'close', 'tickvol', 'vol', 'spread']\n",
      "Kiểu dữ liệu các cột: date        object\n",
      "time        object\n",
      "open       float64\n",
      "high       float64\n",
      "low        float64\n",
      "close      float64\n",
      "tickvol      int64\n",
      "vol          int64\n",
      "spread       int64\n",
      "dtype: object\n",
      "5 dòng đầu tiên:          date      time      open      high       low     close  tickvol  vol  \\\n",
      "0  2014.01.14  00:00:00  1253.967  1255.028  1241.646  1243.309    68832    0   \n",
      "1  2014.01.15  00:00:00  1243.300  1243.919  1234.216  1240.926    78349    0   \n",
      "2  2014.01.16  00:00:00  1240.921  1245.040  1236.312  1241.981    72621    0   \n",
      "3  2014.01.17  00:00:00  1241.983  1254.789  1237.708  1253.669    76228    0   \n",
      "4  2014.01.19  00:00:00  1253.814  1260.701  1251.230  1256.148     3730    0   \n",
      "\n",
      "   spread  \n",
      "0       0  \n",
      "1       0  \n",
      "2       0  \n",
      "3       0  \n",
      "4       0  \n"
     ]
    }
   ],
   "source": [
    "import sys\n",
    "import os\n",
    "sys.path.append(os.path.abspath(os.path.join(os.path.dirname(\"\"), '../../')))\n",
    "from src.etl.extract.historical_metatrader_extract import HistoricalMetatraderExtract\n",
    "extractor = HistoricalMetatraderExtract()\n",
    "df = extractor.historical_extract()\n",
    "print('Tên cột:', df.columns.tolist())\n",
    "print('Kiểu dữ liệu các cột:', df.dtypes)\n",
    "print('5 dòng đầu tiên:', df.head())"
   ]
  },
  {
   "cell_type": "code",
   "execution_count": null,
   "id": "63d0b5e7",
   "metadata": {},
   "outputs": [],
   "source": []
  }
 ],
 "metadata": {
  "kernelspec": {
   "display_name": ".venv (3.12.3)",
   "language": "python",
   "name": "python3"
  },
  "language_info": {
   "codemirror_mode": {
    "name": "ipython",
    "version": 3
   },
   "file_extension": ".py",
   "mimetype": "text/x-python",
   "name": "python",
   "nbconvert_exporter": "python",
   "pygments_lexer": "ipython3",
   "version": "3.12.3"
  }
 },
 "nbformat": 4,
 "nbformat_minor": 5
}
