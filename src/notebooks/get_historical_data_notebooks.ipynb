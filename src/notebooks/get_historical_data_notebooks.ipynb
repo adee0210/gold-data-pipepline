{
 "cells": [
  {
   "cell_type": "code",
   "execution_count": 1,
   "id": "7ce7cac1",
   "metadata": {},
   "outputs": [
    {
     "name": "stderr",
     "output_type": "stream",
     "text": [
      "/home/duc/gold_data_project/.venv/lib/python3.12/site-packages/tqdm/auto.py:21: TqdmWarning: IProgress not found. Please update jupyter and ipywidgets. See https://ipywidgets.readthedocs.io/en/stable/user_install.html\n",
      "  from .autonotebook import tqdm as notebook_tqdm\n",
      "/tmp/ipykernel_62010/969542243.py:6: DeprecationWarning: Use dataset_load() instead of load_dataset(). load_dataset() will be removed in a future version.\n",
      "  df = kagglehub.load_dataset(\n"
     ]
    },
    {
     "name": "stdout",
     "output_type": "stream",
     "text": [
      "First 5 records:               Date;Open;High;Low;Close;Volume\n",
      "0        2004.06.11 07:18;384;384.1;384;384;3\n",
      "1      2004.06.11 07:23;384.1;384.1;384;384;2\n",
      "2  2004.06.11 07:24;383.8;383.8;383.8;383.8;1\n",
      "3  2004.06.11 07:25;383.8;384.3;383.8;384.3;3\n",
      "4  2004.06.11 07:27;383.8;383.8;383.8;383.8;1\n"
     ]
    }
   ],
   "source": [
    "import kagglehub\n",
    "from kagglehub import KaggleDatasetAdapter\n",
    "\n",
    "file_path = \"XAU_1m_data.csv\"\n",
    "\n",
    "df = kagglehub.load_dataset(\n",
    "  KaggleDatasetAdapter.PANDAS,\n",
    "  \"novandraanugrah/xauusd-gold-price-historical-data-2004-2024\",\n",
    "  file_path,\n",
    ")\n",
    "\n",
    "print(\"First 5 records:\", df.head())"
   ]
  },
  {
   "cell_type": "code",
   "execution_count": 2,
   "id": "06f0c758",
   "metadata": {},
   "outputs": [
    {
     "data": {
      "text/plain": [
       "<bound method DataFrame.info of                            Date;Open;High;Low;Close;Volume\n",
       "0                     2004.06.11 07:18;384;384.1;384;384;3\n",
       "1                   2004.06.11 07:23;384.1;384.1;384;384;2\n",
       "2               2004.06.11 07:24;383.8;383.8;383.8;383.8;1\n",
       "3               2004.06.11 07:25;383.8;384.3;383.8;384.3;3\n",
       "4               2004.06.11 07:27;383.8;383.8;383.8;383.8;1\n",
       "...                                                    ...\n",
       "6600525  2025.10.01 05:25;3865.21;3866.46;3864.68;3865....\n",
       "6600526  2025.10.01 05:26;3865.66;3867.09;3865.66;3866....\n",
       "6600527  2025.10.01 05:27;3866.31;3867.43;3866.27;3867....\n",
       "6600528  2025.10.01 05:28;3867.2;3867.75;3865.72;3865.8...\n",
       "6600529  2025.10.01 05:29;3865.83;3866.58;3865.37;3866....\n",
       "\n",
       "[6600530 rows x 1 columns]>"
      ]
     },
     "execution_count": 2,
     "metadata": {},
     "output_type": "execute_result"
    }
   ],
   "source": [
    "df.info"
   ]
  },
  {
   "cell_type": "code",
   "execution_count": 3,
   "id": "3ea68e6d",
   "metadata": {},
   "outputs": [],
   "source": [
    "df.to_csv(\"/home/duc/gold_data_project/data/gold_data.csv\",index=False)"
   ]
  }
 ],
 "metadata": {
  "kernelspec": {
   "display_name": ".venv (3.12.3)",
   "language": "python",
   "name": "python3"
  },
  "language_info": {
   "codemirror_mode": {
    "name": "ipython",
    "version": 3
   },
   "file_extension": ".py",
   "mimetype": "text/x-python",
   "name": "python",
   "nbconvert_exporter": "python",
   "pygments_lexer": "ipython3",
   "version": "3.12.3"
  }
 },
 "nbformat": 4,
 "nbformat_minor": 5
}
